{
 "cells": [
  {
   "cell_type": "markdown",
   "metadata": {},
   "source": [
    "## Lab 01"
   ]
  },
  {
   "cell_type": "markdown",
   "metadata": {},
   "source": [
    "### Rozgrzewka (zalecana dla początkujących)"
   ]
  },
  {
   "cell_type": "markdown",
   "metadata": {},
   "source": [
    "a) Korzystając z ```virtualenv``` przygotuj wirtualne środowisko uruchomieniowe ([Wirtualne środowisko uruchomieniowe Pythona](http://blog.fizyk.net.pl/pl/blog/wirtualne-srodowisko-uruchomieniowe-pythona.html))."
   ]
  },
  {
   "cell_type": "markdown",
   "metadata": {},
   "source": [
    "b) Korzystając z ```pip``` zainstaluj pakiet ```roman``` i przetestuj go."
   ]
  },
  {
   "cell_type": "markdown",
   "metadata": {},
   "source": [
    "Jeśli są z tym problemy wykorzystaj [tooooo](https://www.google.pl/search?q=python+online+interpreter&oq=python+online+&aqs=chrome.2.69i57j0l5.4406j0j7&sourceid=chrome&ie=UTF-80)"
   ]
  },
  {
   "cell_type": "markdown",
   "metadata": {
    "collapsed": true,
    "jupyter": {
     "outputs_hidden": true
    }
   },
   "source": [
    "### Zadanie 1"
   ]
  },
  {
   "cell_type": "markdown",
   "metadata": {},
   "source": [
    "Zaimplementuj poniższe funkcje, tak żeby dołączone testy przechodziły. Polecenia znajdują się w docstringach pod deklaracją funkcji."
   ]
  },
  {
   "cell_type": "code",
   "execution_count": 1,
   "metadata": {},
   "outputs": [
    {
     "name": "stdout",
     "output_type": "stream",
     "text": [
      "True\n",
      "True\n",
      "True\n"
     ]
    }
   ],
   "source": [
    "def avg(input):\n",
    "    \"\"\"Funkcja powinna zwrócić średnią arytmetyczną elementów na liście 'input'\"\"\"\n",
    "    return sum(input) / len(input)\n",
    "\n",
    "\n",
    "print(avg([2, 2, 2, 2, 2, 2]) - 2 < 0.0000001)\n",
    "print(avg([4, 6, 55, 18, 17, 12]) - 18.666666666666668 < 0.0000001)\n",
    "print(avg([86, 89, 24, 45, 62, 17, 61, 63, 30, 13]) - 49 < 0.0000001)\n"
   ]
  },
  {
   "cell_type": "code",
   "execution_count": 2,
   "metadata": {},
   "outputs": [
    {
     "name": "stdout",
     "output_type": "stream",
     "text": [
      "True\n",
      "True\n",
      "True\n",
      "True\n"
     ]
    }
   ],
   "source": [
    "def even_list(n):\n",
    "    \"\"\"Funkcja powinna zwrocic liste liczb parzystych <= n\"\"\"\n",
    "    even_numbers = list()\n",
    "    for i in range(2, n + 1, 2):\n",
    "        even_numbers.append(i)\n",
    "    return even_numbers\n",
    "\n",
    "\n",
    "print(even_list(1) == [])\n",
    "print(even_list(2) == [2])\n",
    "print(even_list(-5) == [])\n",
    "print(even_list(7) == [2,4,6])\n"
   ]
  },
  {
   "cell_type": "code",
   "execution_count": 3,
   "metadata": {},
   "outputs": [
    {
     "name": "stdout",
     "output_type": "stream",
     "text": [
      "True\n",
      "True\n",
      "True\n"
     ]
    }
   ],
   "source": [
    "def sum_of_squares(n):\n",
    "    \"\"\" Funkcja powinna zwrócić sumę kwadratów liczb od 1 do n włącznie \"\"\"\n",
    "    total = 0\n",
    "    for i in range(1, n + 1, 1):\n",
    "        total += pow(i, 2)\n",
    "    return total\n",
    "\n",
    "\n",
    "print(sum_of_squares(1) == 1)\n",
    "print(sum_of_squares(3) == 14)\n",
    "print(sum_of_squares(10) == 385)\n"
   ]
  },
  {
   "cell_type": "code",
   "execution_count": 4,
   "metadata": {},
   "outputs": [
    {
     "name": "stdout",
     "output_type": "stream",
     "text": [
      "True\n",
      "True\n",
      "True\n",
      "True\n",
      "True\n",
      "True\n"
     ]
    }
   ],
   "source": [
    "# First idea to solve this\n",
    "def sum_of_multiples(k, n=101):\n",
    "    \"\"\" Funckja powinna zwrócić sume wszystkich dodatnich wieloktrotności parametru k mniejszych niż n \"\"\"\n",
    "    total = 0\n",
    "    multiple = k\n",
    "    while multiple < n:\n",
    "        total += multiple\n",
    "        multiple += k\n",
    "    return total\n",
    "\n",
    "\n",
    "print(sum_of_multiples(5) == 1050)\n",
    "print(sum_of_multiples(17) == 255)\n",
    "print(sum_of_multiples(69) == 69)\n",
    "\n",
    "\n",
    "# Mathematical approach\n",
    "def sum_of_multiples_2(k, n=101):\n",
    "    \"\"\" Funckja powinna zwrócić sume wszystkich dodatnich wieloktrotności parametru k mniejszych niż n \"\"\"\n",
    "    m = (n - 1) // k #  Find out how many multiples of k are less than n (therefore n - 1)\n",
    "    return k * (m * (m + 1) / 2) #  Using the formula for the sum of 1 + 2 + 3 + 4 +... series\n",
    "\n",
    "\n",
    "print(sum_of_multiples_2(5) == 1050)\n",
    "print(sum_of_multiples_2(17) == 255)\n",
    "print(sum_of_multiples_2(69) == 69)\n"
   ]
  },
  {
   "cell_type": "code",
   "execution_count": 5,
   "metadata": {},
   "outputs": [
    {
     "name": "stdout",
     "output_type": "stream",
     "text": [
      "True\n",
      "True\n",
      "True\n"
     ]
    }
   ],
   "source": [
    "# Sieve of Eratosthenes\n",
    "def primes_less_than(n):\n",
    "    \"\"\" Funckja powinna zwrócić liste liczb pierwszych mniejszych od n \"\"\"\n",
    "    if n < 2:\n",
    "        return []\n",
    "    \n",
    "    numbers = list(range(2, n))\n",
    "    i = 0\n",
    "    while i < len(numbers):\n",
    "        prime = numbers[i]\n",
    "        j = i + 1\n",
    "        while j < len(numbers):\n",
    "            if numbers[j] % prime == 0:\n",
    "                numbers.pop(j)\n",
    "            else:\n",
    "                j += 1\n",
    "        i += 1\n",
    "    return numbers\n",
    "\n",
    "\n",
    "print(primes_less_than(5) == [2, 3])\n",
    "print(primes_less_than(10) == [2, 3, 5, 7])\n",
    "print(primes_less_than(20) == [2, 3, 5, 7, 11, 13, 17, 19])\n"
   ]
  },
  {
   "cell_type": "code",
   "execution_count": 6,
   "metadata": {},
   "outputs": [
    {
     "name": "stdout",
     "output_type": "stream",
     "text": [
      "True\n",
      "True\n",
      "True\n",
      "True\n"
     ]
    }
   ],
   "source": [
    "def is_palindrome(word):\n",
    "    \"\"\" Funkcja sprawdza czy *word* jest palindromem \"\"\"\n",
    "    return word == word[::-1]\n",
    "\n",
    "\n",
    "print(is_palindrome('ala') == True)\n",
    "print(is_palindrome('ananas') == False)\n",
    "print(is_palindrome('ananasa') == False)\n",
    "print(is_palindrome('tomek') == False)\n"
   ]
  },
  {
   "cell_type": "code",
   "execution_count": 7,
   "metadata": {},
   "outputs": [
    {
     "name": "stdout",
     "output_type": "stream",
     "text": [
      "True\n",
      "True\n",
      "True\n",
      "True\n"
     ]
    },
    {
     "data": {
      "text/plain": [
       "'  \\nWorth noting: \\n       print(set(\"example\")) returns {\\'a\\', \\'l\\', \\'p\\', \\'x\\', \\'m\\', \\'e\\'}\\n       print({\"example\"}) returns {\\'example\\'} \\n'"
      ]
     },
     "execution_count": 7,
     "metadata": {},
     "output_type": "execute_result"
    }
   ],
   "source": [
    "def how_many_different_letters(word):\n",
    "    \"\"\" Zwraca liczbę unikalnych znaków w słowie. Możemy założyć, że słowo składa się z małych liter alfabetu\n",
    "    angielskiego\"\"\"\n",
    "    return len({*word})  # Unpack operator\n",
    "\n",
    "\n",
    "print(how_many_different_letters('tomek') == 5)\n",
    "print(how_many_different_letters('ala') == 2)\n",
    "print(how_many_different_letters('ananas') == 3)\n",
    "print(how_many_different_letters('jola') == 4)\n",
    "\n",
    "\"\"\"  \n",
    "Worth noting: \n",
    "       print(set(\"example\")) returns {'a', 'l', 'p', 'x', 'm', 'e'}\n",
    "       print({\"example\"}) returns {'example'} \n",
    "\"\"\"\n"
   ]
  },
  {
   "cell_type": "code",
   "execution_count": 3,
   "metadata": {},
   "outputs": [
    {
     "name": "stdout",
     "output_type": "stream",
     "text": [
      "<table style=\"table-layout: fixed; height: 90px; width: 90px;\">\n",
      "\t<tr>\n",
      "\t\t<td>X</td>\n",
      "\t\t<td></td>\n",
      "\t\t<td>O</td>\n",
      "\t</tr>\n",
      "\t<tr>\n",
      "\t\t<td></td>\n",
      "\t\t<td>X</td>\n",
      "\t\t<td></td>\n",
      "\t</tr>\n",
      "\t<tr>\n",
      "\t\t<td>O</td>\n",
      "\t\t<td></td>\n",
      "\t\t<td>O</td>\n",
      "\t</tr>\n",
      "</table>\n"
     ]
    }
   ],
   "source": [
    "def list_to_table(word):\n",
    "    \"\"\" Funkcja przyjmuje 9-elementową liste i na jej podstawie tworzy stringa z HTMLową tabelą orzmiaru 3x3 \n",
    "    reprezentującą plansze do gry w kółko i krzyżyk\"\"\"\n",
    "    board = '<table style=\"table-layout: fixed; height: 90px; width: 90px;\">'\n",
    "    board += \"\\n\"\n",
    "    \n",
    "    for i in range(0, 9, 3): \n",
    "        board += \"\\t<tr>\\n\"\n",
    "        for j in range(3):\n",
    "            board += f\"\\t\\t<td>{word[i + j]}</td>\\n\"  # board += \"\\t\\t<td>\" + str(word[i + j]) + \"</td>\\n\"\n",
    "        board += \"\\t</tr>\\n\"\n",
    "    \n",
    "    board += \"</table>\"\n",
    "    return board\n",
    "\n",
    "print(list_to_table(['X', '', 'O', '', 'X', '', 'O', '', 'O']))\n"
   ]
  },
  {
   "cell_type": "code",
   "execution_count": 22,
   "metadata": {},
   "outputs": [
    {
     "name": "stdout",
     "output_type": "stream",
     "text": [
      "True\n",
      "True\n",
      "True\n",
      "True\n",
      "CPU times: user 68.8 ms, sys: 3.08 ms, total: 71.9 ms\n",
      "Wall time: 71.3 ms\n"
     ]
    }
   ],
   "source": [
    "%%time\n",
    "\n",
    "# Funkcję zwraca listę par liczb zaprzyjaźnionych nie większych niż n\n",
    "# (zobacz: https://pl.wikipedia.org/wiki/Liczby_zaprzyja%C5%BAnione)\n",
    "def sum_of_divisors(k):\n",
    "    divisors_sum = 1\n",
    "    for i in range(2, int(k ** 0.5) + 1):\n",
    "        if k % i == 0:\n",
    "            divisors_sum += i\n",
    "            if i != k // i:\n",
    "                divisors_sum += k // i\n",
    "    return divisors_sum\n",
    "\n",
    "\n",
    "def zaprzyjaznione(n):\n",
    "    pairs = list()\n",
    "    for i in range(2, n + 1):\n",
    "        j = sum_of_divisors(i)\n",
    "        if j > i and sum_of_divisors(j) == i:\n",
    "            pairs.append((i, j))\n",
    "    return pairs\n",
    "\n",
    "\n",
    "print(zaprzyjaznione(1) == [])\n",
    "print(zaprzyjaznione(300) == [(220, 284)])\n",
    "print(zaprzyjaznione(2000) == [(220, 284), (1184, 1210)])\n",
    "print(zaprzyjaznione(13000) == [(220, 284), (1184, 1210), (2620, 2924),\n",
    "                                (5020, 5564), (6232, 6368), (10744, 10856), (12285, 14595)])\n"
   ]
  },
  {
   "cell_type": "code",
   "execution_count": 23,
   "metadata": {},
   "outputs": [
    {
     "name": "stdout",
     "output_type": "stream",
     "text": [
      "True\n",
      "True\n",
      "True\n"
     ]
    }
   ],
   "source": [
    "def phi_euler(n):\n",
    "    \"\"\"Funkcja powinna zwrócić wartość funkcji phi Eulera\"\"\"\n",
    "\n",
    "    def gcd(a, b):\n",
    "        if b == 0:\n",
    "            return a\n",
    "        else:\n",
    "            return gcd(b, a % b)\n",
    "\n",
    "    total_rpn = 1  # rpn - relatively prime numbers\n",
    "\n",
    "    for i in range(2, n):\n",
    "        if gcd(i, n) == 1:\n",
    "            total_rpn += 1\n",
    "\n",
    "    return total_rpn\n",
    "\n",
    "\n",
    "print(phi_euler(6) == 2)\n",
    "print(phi_euler(64) == 32)\n",
    "print(phi_euler(97) == 96)\n"
   ]
  },
  {
   "cell_type": "markdown",
   "metadata": {},
   "source": [
    "### Zadanie 2"
   ]
  },
  {
   "cell_type": "markdown",
   "metadata": {},
   "source": [
    "Uzupełnij poniższe impementacje tak aby osiągnąć zbliczone czasy wykonania\n",
    "- `is_perfect`: 76.5 ms ± 5.79 ms per loop (mean ± std. dev. of 7 runs, 40 loops each)\n",
    "- `is_perfect2`: 73 ms ± 4 ms per loop (mean ± std. dev. of 7 runs, 40 loops each)"
   ]
  },
  {
   "cell_type": "code",
   "execution_count": 24,
   "metadata": {},
   "outputs": [
    {
     "name": "stdout",
     "output_type": "stream",
     "text": [
      "True\n",
      "True\n",
      "True\n",
      "4.05 µs ± 80.3 ns per loop (mean ± std. dev. of 7 runs, 40 loops each)\n"
     ]
    }
   ],
   "source": [
    "def is_perfect(n):\n",
    "    \"\"\"\n",
    "    Funkcja powinna sprawdzać, czy dana liczba n jest doskonała\n",
    "    https://pl.wikipedia.org/wiki/Liczba_doskona%C5%82a\n",
    "    \"\"\"\n",
    "    total_divisors = 0\n",
    "    for i in range(1, (n // 2) + 1):\n",
    "        if n % i == 0:\n",
    "            total_divisors += i\n",
    " \n",
    "    return n == total_divisors\n",
    "\n",
    "\n",
    "def wrapper():\n",
    "    is_perfect(6) \n",
    "    is_perfect(28) \n",
    "    is_perfect(7)\n",
    "\n",
    "\n",
    "print(is_perfect(6) is True)\n",
    "print(is_perfect(28) is True)\n",
    "print(is_perfect(7) is False)\n",
    "\n",
    "%timeit -r 7 -n 40 wrapper()\n"
   ]
  },
  {
   "cell_type": "code",
   "execution_count": 2,
   "metadata": {},
   "outputs": [
    {
     "name": "stdout",
     "output_type": "stream",
     "text": [
      "True\n",
      "True\n",
      "True\n",
      "2.63 µs ± 34 ns per loop (mean ± std. dev. of 7 runs, 40 loops each)\n"
     ]
    }
   ],
   "source": [
    "def is_perfect(n):\n",
    "    \"\"\"\n",
    "    Funkcja powinna sprawdzać, czy dana liczba n jest doskonała\n",
    "    https://pl.wikipedia.org/wiki/Liczba_doskona%C5%82a\n",
    "    \"\"\"\n",
    "    total_divisors = 0\n",
    "    for i in range(1, (n // 2) + 1):\n",
    "        if n % i == 0:\n",
    "            total_divisors += i\n",
    " \n",
    "    return n == total_divisors\n",
    "\n",
    "\n",
    "def wrapper():\n",
    "    is_perfect(6) \n",
    "    is_perfect(28) \n",
    "    is_perfect(7)\n",
    "\n",
    "\n",
    "print(is_perfect(6) is True)\n",
    "print(is_perfect(28) is True)\n",
    "print(is_perfect(7) is False)\n",
    "\n",
    "%timeit -n 40 wrapper()\n"
   ]
  },
  {
   "cell_type": "code",
   "execution_count": null,
   "metadata": {},
   "outputs": [],
   "source": [
    "print(is_perfect2(6) is True)\n",
    "print(is_perfect2(28) is True)\n",
    "print(is_perfect2(7) is False)"
   ]
  },
  {
   "cell_type": "markdown",
   "metadata": {},
   "source": [
    "## Zadanie dodatkowe\n",
    "Można za nie zdobyć punkty z aktywności, równiez oddając je za tydzień.\n",
    "\n",
    "Dla zadanej tablicy o długości $n$ zawierającej liczby całkowite większe od zera. \n",
    "Chcemy znaleźć podtablice, że $m$ kolejnych elementów sumuje się do $d$.\n",
    "\n",
    "Napisz funkcję która dla danych $m$, $d$ i sekwencję liczb całkowitych większych od zera $tab$, wypisze na ile sposobów można stworzyć taką podtablice?\n",
    "\n",
    "Przykładowo, niech $m=2$, $d=3$, a czekolada składa się z $tab = [1,2,1,3,2]$. Chcemy znaleźć takie dwa (bo m=2) elementy pod rząd, których suma da nam $d=3$. Jest to pierwszy i drugi element lub drugi i trzeci.\n",
    "\n",
    "\n",
    "**Napisz program, który działa w czasie liniowym.**"
   ]
  },
  {
   "cell_type": "code",
   "execution_count": 6,
   "metadata": {},
   "outputs": [],
   "source": [
    "def solve(d, m, tab):\n",
    "    result = 0\n",
    "    temp_list = tab[0:m]  # take the first m elements from the list\n",
    "    tab = tab[m:]  # leave only the reminder\n",
    "    while True:\n",
    "        if sum(temp_list) == d: #sum the current list of m elements\n",
    "            result += 1\n",
    "\n",
    "        if len(tab) == 0:\n",
    "            break\n",
    "        else:\n",
    "            temp_list = temp_list[1:]\n",
    "            temp_list.append(tab[0]) \n",
    "            tab = tab[1:] #remove the first element from the temp_list and insert the next one from the given list\n",
    "    return result"
   ]
  },
  {
   "cell_type": "code",
   "execution_count": 7,
   "metadata": {},
   "outputs": [
    {
     "name": "stdout",
     "output_type": "stream",
     "text": [
      "True\n",
      "True\n",
      "True\n"
     ]
    }
   ],
   "source": [
    "tab0 = [1, 2, 1, 3, 2]\n",
    "d0 = 3\n",
    "m0 = 2\n",
    "tab1 = [1, 1, 1, 1, 1, 1]\n",
    "d1 = 3\n",
    "m1 = 2\n",
    "tab2 = [4, 1, 3, 4, 1, 1, 1, 1, 1, 1, 1]\n",
    "d2 = 4\n",
    "m2 = 4\n",
    "\n",
    "print(solve(d0, m0, tab0) == 2)\n",
    "print(solve(d1, m1, tab1) == 0)\n",
    "print(solve(d2, m2, tab2) == 4)\n"
   ]
  },
  {
   "cell_type": "markdown",
   "metadata": {},
   "source": [
    "## Zadanie dodatkowe 2\n",
    "Można za nie zdobyć punkty z aktywności, również oddając je za tydzień.\n",
    "\n",
    "Napisz definicję funkcji HowManyIntegers(N), która zwróci jak wiele liczb z zakresu [1,N) składa się wyłącznie z cyfr {0,2,7,9}. <br><br>\n",
    "Czyli np. <br>\n",
    "HowManyIntegers(1) = 0 <br>\n",
    "HowManyIntegers(10) = 3 # 2,7,9 <br>\n",
    "HowManyIntegers(28) = 6 # 2,7,9,20,22,27 <br>\n",
    "\n",
    "Twoje rozwiązanie powinno mieć jak najmniej niebiałych znaków. Czy uda się w 69? A może da się jeszcze mniej?"
   ]
  },
  {
   "cell_type": "code",
   "execution_count": 1,
   "metadata": {},
   "outputs": [
    {
     "name": "stdout",
     "output_type": "stream",
     "text": [
      "True\n",
      "True\n",
      "True\n"
     ]
    }
   ],
   "source": [
    "def HowManyIntegers(N):\n",
    "    return sum(1 for i in range(1, N) if all(c in '0279' for c in str(i)))\n",
    "\n",
    "\n",
    "print(HowManyIntegers(1) == 0) \n",
    "print(HowManyIntegers(10) == 3) # 2,7,9 \n",
    "print(HowManyIntegers(28) == 6) # 2,7,9,20,22,27\n"
   ]
  },
  {
   "cell_type": "markdown",
   "metadata": {},
   "source": [
    "## Bonusy\n",
    "\n",
    "\"Dodatkowe\" pakiety Pythona"
   ]
  },
  {
   "cell_type": "code",
   "execution_count": 26,
   "metadata": {},
   "outputs": [],
   "source": [
    "# flying\n",
    "import antigravity"
   ]
  },
  {
   "cell_type": "code",
   "execution_count": 33,
   "metadata": {},
   "outputs": [],
   "source": [
    "# PEP20\n",
    "import this"
   ]
  },
  {
   "cell_type": "code",
   "execution_count": 30,
   "metadata": {},
   "outputs": [
    {
     "data": {
      "text/plain": [
       "(True, True, True)"
      ]
     },
     "execution_count": 30,
     "metadata": {},
     "output_type": "execute_result"
    }
   ],
   "source": [
    "# A poem\n",
    "love = this\n",
    "\n",
    "this is love, love is not True or False, love is love"
   ]
  },
  {
   "cell_type": "code",
   "execution_count": 29,
   "metadata": {},
   "outputs": [
    {
     "ename": "SyntaxError",
     "evalue": "not a chance (331539879.py, line 2)",
     "output_type": "error",
     "traceback": [
      "\u001b[0;36m  Cell \u001b[0;32mIn[29], line 2\u001b[0;36m\u001b[0m\n\u001b[0;31m    from __future__ import braces\u001b[0m\n\u001b[0m    ^\u001b[0m\n\u001b[0;31mSyntaxError\u001b[0m\u001b[0;31m:\u001b[0m not a chance\n"
     ]
    }
   ],
   "source": [
    "# Nie lubię wcięć, chce używać nawiasów {} do bloków kodu\n",
    "from __future__ import braces"
   ]
  },
  {
   "cell_type": "code",
   "execution_count": null,
   "metadata": {},
   "outputs": [],
   "source": []
  }
 ],
 "metadata": {
  "kernelspec": {
   "display_name": "Python 3 (ipykernel)",
   "language": "python",
   "name": "python3"
  },
  "language_info": {
   "codemirror_mode": {
    "name": "ipython",
    "version": 3
   },
   "file_extension": ".py",
   "mimetype": "text/x-python",
   "name": "python",
   "nbconvert_exporter": "python",
   "pygments_lexer": "ipython3",
   "version": "3.11.5"
  }
 },
 "nbformat": 4,
 "nbformat_minor": 4
}
